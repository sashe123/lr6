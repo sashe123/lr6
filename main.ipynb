{
 "cells": [
  {
   "cell_type": "markdown",
   "metadata": {},
   "source": [
    "# ПІБ студента: DZHALO OLEKSANDER\n",
    "Група: IPZ-22011\n",
    "Варіант: 8"
   ]
  },
  {
   "cell_type": "markdown",
   "metadata": {},
   "source": [
    "# Завдання 1: Створити програму для генерації довільного масиву із 39 цілих чисел, які не перевищують по модулю 199, з наступними властивостями:\n",
    "1.1. При кожному запуску програми масив повинен бути різним.\n",
    "1.2. Масив повинен містити від 2 до 3 мінімальних (однакових) елементів.\n",
    "1.3. Масив повинен містити 30 відсотків від’ємних елементів (розташованих в довільних місцях)"
   ]
  },
  {
   "cell_type": "code",
   "execution_count": 2,
   "metadata": {},
   "outputs": [
    {
     "name": "stdout",
     "output_type": "stream",
     "text": [
      "Згенерований масив: [-146, -108, 144, -156, -66, -54, 64, -79, -165, 145, 185, -111, -112, 189, 87, -19, -136, -21, 5, -13, -166, 119, -21, -176, -73, 128, -180, 16, -54, -44, -6, 10, -154, -54, 180, -95, 163, -149, -184]\n",
      "Масив успішно збережено у файл 'array.txt'.\n"
     ]
    }
   ],
   "source": [
    "import random\n",
    "def generate_array():\n",
    "    array_size = 39\n",
    "    min_value, max_value = -199, 199\n",
    "        # Генерація довільного масиву з цілими числами в межах [-199, 199]\n",
    "    array = [random.randint(min_value, max_value) for _ in range(array_size)]\n",
    "        # Встановлюємо мінімальний елемент масиву і робимо його 2 або 3 рази повторюваним\n",
    "    min_element = random.randint(min_value, max_value)\n",
    "    for _ in range(random.choice([2, 3])):\n",
    "        array[random.randint(0, array_size - 1)] = min_element\n",
    "    # Робимо 30% від елементів від'ємними\n",
    "    negative_count = int(array_size * 0.3)\n",
    "    indices = random.sample(range(array_size), negative_count)\n",
    "    for idx in indices:\n",
    "        # Змінюємо на від'ємне значення, якщо число додатне\n",
    "        array[idx] = -abs(array[idx]) if array[idx] > 0 else array[idx]\n",
    "    return array\n",
    "def save_array_to_file(array, filename=\"array.txt\"):\n",
    "    with open(filename, 'w') as file:\n",
    "        for number in array:\n",
    "            file.write(f\"{number}\\n\")\n",
    "    print(f\"Масив успішно збережено у файл '{filename}'.\")\n",
    "if __name__ == \"__main__\":\n",
    "    random_array = generate_array()\n",
    "    print(\"Згенерований масив:\", random_array)\n",
    "    save_array_to_file(random_array)"
   ]
  },
  {
   "cell_type": "markdown",
   "metadata": {},
   "source": [
    "# Завдання 3: Створити програму, яка зчитує із файлу згенерований масив попередньою програмою і виводить його на екран.\n"
   ]
  },
  {
   "cell_type": "code",
   "execution_count": 3,
   "metadata": {},
   "outputs": [
    {
     "name": "stdout",
     "output_type": "stream",
     "text": [
      "Масив, зчитаний із файлу:\n",
      "[-146, -108, 144, -156, -66, -54, 64, -79, -165, 145, 185, -111, -112, 189, 87, -19, -136, -21, 5, -13, -166, 119, -21, -176, -73, 128, -180, 16, -54, -44, -6, 10, -154, -54, 180, -95, 163, -149, -184]\n"
     ]
    }
   ],
   "source": [
    "def read_array_from_file(filename=\"array.txt\"):\n",
    "    try:\n",
    "        with open(filename, 'r') as file:\n",
    "            # Зчитуємо всі рядки та конвертуємо їх у цілі числа\n",
    "            array = [int(line.strip()) for line in file]\n",
    "        print(\"Масив, зчитаний із файлу:\")\n",
    "        print(array)\n",
    "    except FileNotFoundError:\n",
    "        print(f\"Помилка: файл '{filename}' не знайдено.\")\n",
    "    except ValueError:\n",
    "        print(\"Помилка: файл містить некоректні дані.\")\n",
    "\n",
    "if __name__ == \"__main__\":\n",
    "    read_array_from_file()\n"
   ]
  },
  {
   "cell_type": "markdown",
   "metadata": {},
   "source": [
    "# Завдання 4: Візуалізувати масив за допомогою точкової діаграми. Виділити кольором мінімальні елементи, а також вказати ці значення на діаграмі. Виділити іншим кольором від’ємні елементи. (Точки повинні бути не менше 5 пікселів в діаметрі)\n"
   ]
  },
  {
   "cell_type": "code",
   "execution_count": 4,
   "metadata": {},
   "outputs": [
    {
     "data": {
      "image/png": "[encoded data removed]",
      "text/plain": [
       "<Figure size 800x600 with 1 Axes>"
      ]
     },
     "metadata": {},
     "output_type": "display_data"
    }
   ],
   "source": [
    "import matplotlib.pyplot as plt\n",
    "import numpy as np\n",
    "\n",
    "# Приклад масиву\n",
    "data = [5, -3, 12, -7, 3, 0, 2, -1, 8, 4]\n",
    "\n",
    "# Знаходимо мінімальний елемент\n",
    "min_value = min(data)\n",
    "\n",
    "# Створюємо масив індексів для мінімальних елементів\n",
    "min_indices = [i for i, val in enumerate(data) if val == min_value]\n",
    "\n",
    "# Створюємо масив індексів для від'ємних елементів\n",
    "negative_indices = [i for i, val in enumerate(data) if val < 0]\n",
    "\n",
    "# Створюємо графік\n",
    "plt.figure(figsize=(8, 6))\n",
    "\n",
    "# Додаємо точки для всіх елементів\n",
    "plt.scatter(range(len(data)), data, s=50, color='blue', label='Елементи масиву')\n",
    "\n",
    "# Виділяємо мінімальні елементи червоним кольором\n",
    "plt.scatter(min_indices, [data[i] for i in min_indices], s=50, color='red', label='Мінімальні елементи')\n",
    "\n",
    "# Виділяємо від'ємні елементи зеленим кольором\n",
    "plt.scatter(negative_indices, [data[i] for i in negative_indices], s=50, color='green', label='Від\\'ємні елементи')\n",
    "\n",
    "# Додаємо підписи до мінімальних елементів\n",
    "for i in min_indices:\n",
    "    plt.text(i, data[i], f'{data[i]}', ha='center', va='bottom', color='red')\n",
    "\n",
    "# Підписи до осей і заголовок\n",
    "plt.xlabel('Індекс')\n",
    "plt.ylabel('Значення')\n",
    "plt.title('Точкова діаграма масиву')\n",
    "\n",
    "# Легенда\n",
    "plt.legend()\n",
    "\n",
    "# Показуємо графік\n",
    "plt.show()\n"
   ]
  },
  {
   "cell_type": "markdown",
   "metadata": {},
   "source": [
    "# Завдання 5: Порахувати кількість та номери позицій мінімальних елементів."
   ]
  },
  {
   "cell_type": "code",
   "execution_count": 5,
   "metadata": {},
   "outputs": [
    {
     "name": "stdout",
     "output_type": "stream",
     "text": [
      "Згенерований масив: [-56, -126, 3, 161, -171, 172, 176, -23, -31, -95, -147, 184, 168, 171, -119, -15, 56, -121, -35, -85, -164, -44, 154, -171, 65, -106, -83, -40, -157, -90, -118, -2, 177, -58, -115, 43, -18, 184, -27]\n",
      "Кількість мінімальних елементів: 2\n",
      "Номери позицій мінімальних елементів: [4, 23]\n"
     ]
    }
   ],
   "source": [
    "import random\n",
    "\n",
    "# Функція для генерації масиву\n",
    "def generate_array():\n",
    "    array_size = 39\n",
    "    min_value, max_value = -199, 199\n",
    "    # Генерація довільного масиву з цілими числами в межах [-199, 199]\n",
    "    array = [random.randint(min_value, max_value) for _ in range(array_size)]\n",
    "    \n",
    "    # Встановлюємо мінімальний елемент масиву і робимо його 2 або 3 рази повторюваним\n",
    "    min_element = random.randint(min_value, max_value)\n",
    "    for _ in range(random.choice([2, 3])):\n",
    "        array[random.randint(0, array_size - 1)] = min_element\n",
    "\n",
    "    # Робимо 30% від елементів від'ємними\n",
    "    negative_count = int(array_size * 0.3)\n",
    "    indices = random.sample(range(array_size), negative_count)\n",
    "    for idx in indices:\n",
    "        # Змінюємо на від'ємне значення, якщо число додатне\n",
    "        array[idx] = -abs(array[idx]) if array[idx] > 0 else array[idx]\n",
    "    \n",
    "    return array\n",
    "\n",
    "# Функція для порахунку мінімальних елементів і їхніх позицій\n",
    "def find_min_elements(array):\n",
    "    min_value = min(array)\n",
    "    min_indices = [i for i, val in enumerate(array) if val == min_value]\n",
    "    min_count = len(min_indices)\n",
    "    print(f\"Кількість мінімальних елементів: {min_count}\")\n",
    "    print(f\"Номери позицій мінімальних елементів: {min_indices}\")\n",
    "    return min_value, min_indices\n",
    "\n",
    "# Основний код\n",
    "if __name__ == \"__main__\":\n",
    "    # Генерація масиву\n",
    "    random_array = generate_array()\n",
    "    print(\"Згенерований масив:\", random_array)\n",
    "\n",
    "    # Порахувати мінімальні елементи\n",
    "    min_value, min_indices = find_min_elements(random_array)\n"
   ]
  },
  {
   "cell_type": "markdown",
   "metadata": {},
   "source": [
    "# Завдання 6: Порахувати кількість та суму елементів масиву, розташованих між першим і другим від’ємними елементами."
   ]
  },
  {
   "cell_type": "code",
   "execution_count": 11,
   "metadata": {},
   "outputs": [
    {
     "name": "stdout",
     "output_type": "stream",
     "text": [
      "Згенерований масив: [10, 69, -119, -5, -36, -173, -140, -148, -45, -127, 140, -58, 185, -78, -126, -112, -188, -177, -182, 122, -137, -121, -190, -26, -128, 123, -29, -112, -108, -173, 99, -119, 157, 142, -79, -97, -173, -55, -194]\n",
      "Кількість елементів між першим і другим від'ємними елементами: 0\n",
      "Сума елементів між першим і другим від'ємними елементами: 0\n"
     ]
    }
   ],
   "source": [
    "import random\n",
    "\n",
    "# Функція для генерації масиву\n",
    "def generate_array():\n",
    "    array_size = 39\n",
    "    min_value, max_value = -199, 199\n",
    "    # Генерація довільного масиву з цілими числами в межах [-199, 199]\n",
    "    array = [random.randint(min_value, max_value) for _ in range(array_size)]\n",
    "    \n",
    "    # Встановлюємо мінімальний елемент масиву і робимо його 2 або 3 рази повторюваним\n",
    "    min_element = random.randint(min_value, max_value)\n",
    "    for _ in range(random.choice([2, 3])):\n",
    "        array[random.randint(0, array_size - 1)] = min_element\n",
    "\n",
    "    # Робимо 30% від елементів від'ємними\n",
    "    negative_count = int(array_size * 0.3)\n",
    "    indices = random.sample(range(array_size), negative_count)\n",
    "    for idx in indices:\n",
    "        # Змінюємо на від'ємне значення, якщо число додатне\n",
    "        array[idx] = -abs(array[idx]) if array[idx] > 0 else array[idx]\n",
    "    \n",
    "    return array\n",
    "\n",
    "# Функція для пошуку елементів між першим і другим від'ємними елементами\n",
    "def sum_and_count_between_negatives(array):\n",
    "    negative_indices = [i for i, val in enumerate(array) if val < 0]\n",
    "    \n",
    "    # Перевірка, чи є хоча б два від'ємних елементи\n",
    "    if len(negative_indices) < 2:\n",
    "        print(\"Масив не містить двох від'ємних елементів.\")\n",
    "        return 0, 0\n",
    "    \n",
    "    # Індекс першого і другого від'ємних елементів\n",
    "    first_negative_idx = negative_indices[0]\n",
    "    second_negative_idx = negative_indices[1]\n",
    "    \n",
    "    # Елементи між першим і другим від'ємними елементами\n",
    "    elements_between = array[first_negative_idx + 1: second_negative_idx]\n",
    "    \n",
    "    # Підрахуємо кількість і суму елементів\n",
    "    count = len(elements_between)\n",
    "    total_sum = sum(elements_between)\n",
    "    \n",
    "    print(f\"Кількість елементів між першим і другим від'ємними елементами: {count}\")\n",
    "    print(f\"Сума елементів між першим і другим від'ємними елементами: {total_sum}\")\n",
    "    \n",
    "    return count, total_sum\n",
    "\n",
    "# Основний код\n",
    "if __name__ == \"__main__\":\n",
    "    # Генерація масиву\n",
    "    random_array = generate_array()\n",
    "    print(\"Згенерований масив:\", random_array)\n",
    "\n",
    "    # Порахувати кількість та суму елементів між першим і другим від'ємними елементами\n",
    "    count, total_sum = sum_and_count_between_negatives(random_array)\n"
   ]
  },
  {
   "cell_type": "markdown",
   "metadata": {},
   "source": [
    "# Завдання 7: Перетворити масив таким чином, щоб спочатку йшли всі елементи, модуль яких не перевищує 100, потім всі інші елементи, відсортовані за збиванням. Вивести отриманий масив та його графічну діаграму на екран."
   ]
  },
  {
   "cell_type": "code",
   "execution_count": 10,
   "metadata": {},
   "outputs": [
    {
     "name": "stdout",
     "output_type": "stream",
     "text": [
      "Перетворений масив: [75, 50, -90, 60, 150, 120, 105, -200]\n"
     ]
    },
    {
     "data": {
      "image/png": "[encoded data removed]",
      "text/plain": [
       "<Figure size 800x600 with 1 Axes>"
      ]
     },
     "metadata": {},
     "output_type": "display_data"
    }
   ],
   "source": [
    "import matplotlib.pyplot as plt\n",
    "\n",
    "# Функція для перетворення масиву\n",
    "def transform_array(array):\n",
    "    # Розділяємо елементи на дві групи:\n",
    "    group1 = [x for x in array if abs(x) <= 100]\n",
    "    group2 = sorted([x for x in array if abs(x) > 100], reverse=True)\n",
    "    \n",
    "    # Поєднуємо групи\n",
    "    transformed_array = group1 + group2\n",
    "    \n",
    "    print(\"Перетворений масив:\", transformed_array)\n",
    "    return transformed_array\n",
    "\n",
    "# Функція для побудови графічної діаграми\n",
    "def plot_array(array):\n",
    "    plt.figure(figsize=(8, 6))\n",
    "    plt.scatter(range(len(array)), array, s=50, color='blue', label='Елементи масиву')\n",
    "\n",
    "    plt.xlabel('Індекс')\n",
    "    plt.ylabel('Значення')\n",
    "    plt.title('Точкова діаграма перетвореного масиву')\n",
    "    plt.legend()\n",
    "    plt.show()\n",
    "\n",
    "# Основний код\n",
    "array = [150, -200, 75, 50, 120, -90, 105, 60]\n",
    "transformed_array = transform_array(array)\n",
    "plot_array(transformed_array)\n"
   ]
  }
 ],
 "metadata": {
  "kernelspec": {
   "display_name": "Python 3 (ipykernel)",
   "language": "python",
   "name": "python3"
  },
  "language_info": {
   "codemirror_mode": {
    "name": "ipython",
    "version": 3
   },
   "file_extension": ".py",
   "mimetype": "text/x-python",
   "name": "python",
   "nbconvert_exporter": "python",
   "pygments_lexer": "ipython3",
   "version": "3.12.5"
  }
 },
 "nbformat": 4,
 "nbformat_minor": 4
}
